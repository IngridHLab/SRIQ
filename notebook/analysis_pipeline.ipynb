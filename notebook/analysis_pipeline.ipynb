{
 "cells": [
  {
   "cell_type": "markdown",
   "metadata": {},
   "source": [
    "# Pipeline for analysising expression data using SRIQ clustering"
   ]
  },
  {
   "cell_type": "markdown",
   "metadata": {},
   "source": [
    "If you are having problems with the pipeline, refer to the github page"
   ]
  },
  {
   "cell_type": "markdown",
   "metadata": {},
   "source": [
    "## Pre processing raw data"
   ]
  },
  {
   "cell_type": "markdown",
   "metadata": {},
   "source": [
    "Importing the appropiate directories"
   ]
  },
  {
   "cell_type": "code",
   "execution_count": null,
   "metadata": {},
   "outputs": [],
   "source": [
    "from DE import networkAnalysis as na"
   ]
  },
  {
   "cell_type": "markdown",
   "metadata": {},
   "source": [
    "clusterDirectory need to point towards directory in which all the clusters can be found. \n",
    "It will then loop through all of the data files, gathering the sample ids from all cluster and create individual .csv files for analysis in R"
   ]
  },
  {
   "cell_type": "code",
   "execution_count": null,
   "metadata": {
    "scrolled": false
   },
   "outputs": [],
   "source": [
    "clusterDirectory = \"data/expressionData/filtered(27k).txt\"\n",
    "obj = na()\n",
    "obj.readCsv(clusterDirectory)\n"
   ]
  },
  {
   "cell_type": "code",
   "execution_count": null,
   "metadata": {
    "scrolled": true
   },
   "outputs": [],
   "source": [
    "obj.preProcess()"
   ]
  },
  {
   "cell_type": "code",
   "execution_count": null,
   "metadata": {},
   "outputs": [],
   "source": [
    "#Set which bottom percentage you intend to filter away\n",
    "bottom = 0.5\n",
    "obj.filterVariantGenes(bottom = bottom)"
   ]
  },
  {
   "cell_type": "code",
   "execution_count": null,
   "metadata": {},
   "outputs": [],
   "source": [
    "#Writes the pre processed and filtered, MUST be .txt and tab separated values\n",
    "obj.filterDf.to_csv(f'data/expressionData/tcga_log2med.txt', sep = '\\t', index = False)\n",
    "obj.DEGDf.to_csv(f'data/expressionData/DGEA.txt', sep = '\\t', index = False)"
   ]
  },
  {
   "cell_type": "markdown",
   "metadata": {},
   "source": [
    "Configure test.properties and run VRLA using following command in the same directory as VRLA:"
   ]
  },
  {
   "cell_type": "code",
   "execution_count": null,
   "metadata": {},
   "outputs": [],
   "source": [
    "studyName='LUAD_ens_q'\n",
    "studyPath='/Users/jacobkarlstrom/projekt/SRIQ/notebook/data/expressionData/'\n",
    "inFileName='tcga_log2med'\n",
    "outPath='/Users/jacobkarlstrom/projekt/SRIQ/software/output/'\n",
    "minBagSize=1200\n",
    "\n",
    "obj.configResources(studyName=studyName, data = inFileName, )"
   ]
  },
  {
   "cell_type": "markdown",
   "metadata": {},
   "source": [
    "Shell command running SRIQ"
   ]
  },
  {
   "cell_type": "code",
   "execution_count": null,
   "metadata": {
    "scrolled": true
   },
   "outputs": [],
   "source": [
    "!cd ../software/VRLA && java -jar VRLA.jar"
   ]
  },
  {
   "cell_type": "markdown",
   "metadata": {},
   "source": [
    "## Expression analysis"
   ]
  },
  {
   "cell_type": "code",
   "execution_count": 1,
   "metadata": {
    "scrolled": true
   },
   "outputs": [
    {
     "name": "stdout",
     "output_type": "stream",
     "text": [
      "[Errno 2] No such file or directory: 'data/expressionData/fitered(27k).txt'\n"
     ]
    }
   ],
   "source": [
    "from DE import networkAnalysis as na\n",
    "\n",
    "csvpath = 'data/expressionData/fitered(27k).txt'\n",
    "SRIQ_cluster_path = 'data/expressionData/publication_image_10000itr_1200var_10r/10000/QC_Spiral(false)/dist(0.63)/6'\n",
    "\n",
    "obj = na()\n",
    "\n",
    "obj.readSRIQ(csvpath, SRIQ_cluster_path)"
   ]
  },
  {
   "cell_type": "markdown",
   "metadata": {},
   "source": [
    "## Visualing genes across clusters"
   ]
  },
  {
   "cell_type": "markdown",
   "metadata": {},
   "source": [
    "Set scopes to your gene format according to mygene documentation"
   ]
  },
  {
   "cell_type": "markdown",
   "metadata": {},
   "source": [
    "Takes single list of genes as argument"
   ]
  },
  {
   "cell_type": "code",
   "execution_count": null,
   "metadata": {
    "scrolled": false
   },
   "outputs": [],
   "source": [
    "obj.plotSingleGene(['KRAS', 'EGFR'], scopes = 'ensembl.gene')"
   ]
  },
  {
   "cell_type": "markdown",
   "metadata": {},
   "source": [
    "Takes list of lists of genes as argument"
   ]
  },
  {
   "cell_type": "code",
   "execution_count": null,
   "metadata": {
    "scrolled": false
   },
   "outputs": [],
   "source": [
    "obj.plotMultipleGenes([['KRAS', 'EGFR']], scopes = 'ensembl.gene')"
   ]
  },
  {
   "cell_type": "markdown",
   "metadata": {},
   "source": [
    "## Visualization of variation"
   ]
  },
  {
   "cell_type": "code",
   "execution_count": null,
   "metadata": {
    "scrolled": false
   },
   "outputs": [],
   "source": [
    "obj.SilhouttePlot(sizes=150)"
   ]
  },
  {
   "cell_type": "code",
   "execution_count": null,
   "metadata": {
    "scrolled": false
   },
   "outputs": [],
   "source": [
    "obj.Umap()"
   ]
  },
  {
   "cell_type": "markdown",
   "metadata": {},
   "source": [
    "## SAM analysis"
   ]
  },
  {
   "cell_type": "markdown",
   "metadata": {},
   "source": [
    "Before running this module, the entire SRIQ folder output has to be copied to the same folder in which the expression data table is located"
   ]
  },
  {
   "cell_type": "code",
   "execution_count": null,
   "metadata": {
    "scrolled": false
   },
   "outputs": [],
   "source": [
    "inFileName='DGEA'\n",
    "studyName = 'publication_image'\n",
    "#obj.configResources(studyName=studyName, data = inFileName, )\n",
    "\n",
    "properties = '/Users/jacobkarlstrom/projekt/SRIQ/software/VRLA/resources/test.properties'\n",
    "expressionData = '/Users/jacobkarlstrom/projekt/SRIQ/notebook/data/expressionData/DGEA-thresh.txt'\n",
    "spiral = False\n",
    "dist = 0.63\n",
    "cmd = f'cd SAMDEG/dist && java -jar SAMDEG.jar {properties} {spiral} {dist} {int(obj.clusterNum)} 5 2 \"{expressionData}\"'\n",
    "\n",
    "cmd"
   ]
  },
  {
   "cell_type": "markdown",
   "metadata": {},
   "source": [
    "### Runs the SAM-analysis"
   ]
  },
  {
   "cell_type": "code",
   "execution_count": null,
   "metadata": {
    "scrolled": true
   },
   "outputs": [],
   "source": [
    "!$cmd"
   ]
  },
  {
   "cell_type": "markdown",
   "metadata": {},
   "source": [
    "### Visualizing DEG"
   ]
  },
  {
   "cell_type": "markdown",
   "metadata": {},
   "source": []
  },
  {
   "cell_type": "code",
   "execution_count": null,
   "metadata": {
    "scrolled": false
   },
   "outputs": [],
   "source": [
    "resultsPath = '/Users/jacobkarlstrom/projekt/SRIQ/notebook/data/expressionData/publication_image_10000itr_1200var_10r/10000/QC_Spiral(false)/Results_log_0.63_6/publication_image_Data_in_6_ClusterOrder_ABS_Unique.txt'\n",
    "\n",
    "obj.plotSamResults(resultsPath = resultsPath, q = 5, lfc = 2)\n"
   ]
  },
  {
   "cell_type": "code",
   "execution_count": null,
   "metadata": {
    "collapsed": true
   },
   "outputs": [],
   "source": [
    "obj.SilhouttePlot()"
   ]
  },
  {
   "cell_type": "markdown",
   "metadata": {},
   "source": [
    "## Enrichment analysis"
   ]
  },
  {
   "cell_type": "markdown",
   "metadata": {},
   "source": [
    "Converts the enrichment list to symbols if in ensembleIDs"
   ]
  },
  {
   "cell_type": "code",
   "execution_count": null,
   "metadata": {
    "scrolled": true
   },
   "outputs": [],
   "source": [
    "scopes = 'ensembl.gene'\n",
    "obj.ensemble2gene(scopes)"
   ]
  },
  {
   "cell_type": "markdown",
   "metadata": {},
   "source": [
    "Performs enrichment analysis from the differentially expressed genes."
   ]
  },
  {
   "cell_type": "code",
   "execution_count": null,
   "metadata": {
    "scrolled": true
   },
   "outputs": [],
   "source": [
    "enrichDbs = ['GO_Biological_Process_2018', 'GO_Cellular_Component_2018', 'GO_Molecular_Function_2018']\n",
    "obj.enrichR(dbs = enrichDbs)"
   ]
  },
  {
   "cell_type": "markdown",
   "metadata": {},
   "source": [
    "Plots the enrichment results"
   ]
  },
  {
   "cell_type": "code",
   "execution_count": null,
   "metadata": {
    "scrolled": false
   },
   "outputs": [],
   "source": [
    "#up or down\n",
    "u_d = 'up'\n",
    "\n",
    "g = obj.plotEnrichmentResults(u_d=u_d, yticklabels =1)\n"
   ]
  }
 ],
 "metadata": {
  "kernelspec": {
   "display_name": "Python 3 (ipykernel)",
   "language": "python",
   "name": "python3"
  },
  "language_info": {
   "codemirror_mode": {
    "name": "ipython",
    "version": 3
   },
   "file_extension": ".py",
   "mimetype": "text/x-python",
   "name": "python",
   "nbconvert_exporter": "python",
   "pygments_lexer": "ipython3",
   "version": "3.9.7"
  }
 },
 "nbformat": 4,
 "nbformat_minor": 4
}
